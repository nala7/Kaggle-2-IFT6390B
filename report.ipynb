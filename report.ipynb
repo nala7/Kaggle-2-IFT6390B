{
 "cells": [
  {
   "metadata": {},
   "cell_type": "markdown",
   "source": [
    "## SVM\n",
    "\n",
    "*Reference:* https://towardsdatascience.com/implement-multiclass-svm-from-scratch-in-python-b141e43dc084\n",
    "\n",
    "\n",
    "Findings:\n",
    "\n",
    "- added pca\n",
    "- reduced sampling\n",
    "- in fitting:\n",
    "    - added max_iters\n",
    "    - added convergence\n",
    "\n",
    "\n",
    "Training Accuracy: 40.43%\n",
    "    - sample_size = int(0.1 * len(X_train))\n",
    "    - n_components=200\n",
    "    - max_iter=500\n",
    "    \n",
    "Training Accuracy: 49.26%\n",
    "    - sample_size = int(0.3 * len(X_train))\n",
    "    - component none\n",
    "    - tol=1e-4, max_iter=1000\n",
    "    \n",
    "Training Accuracy: 49.26%\n",
    "    - 0.3\n",
    "\n",
    "Training Accuracy: 48.23%\n",
    "    - sample_size = int(0.4 * len(X_train))\n",
    "    - max_iter=500\n",
    "    ==> Better more iterations than bigger sample??\n",
    "\n",
    "0.7 no termina\n",
    "\n",
    "Most classes predicted are 0 (the first class)\n",
    "    ==> add weights\n",
    "    \n",
    "\n",
    "Training Accuracy: 49.27%\n",
    "rbf, 0.3, 1500 iter\n"
   ],
   "id": "a9e4da2478ae1dbf"
  },
  {
   "metadata": {},
   "cell_type": "markdown",
   "source": [
    "## PCA\n",
    "\n",
    "*Resource*: https://www.askpython.com/python/examples/principal-component-analysis\n"
   ],
   "id": "20b45c435e666e1c"
  },
  {
   "metadata": {},
   "cell_type": "code",
   "outputs": [],
   "execution_count": null,
   "source": "",
   "id": "882b81a4f40fb549"
  },
  {
   "metadata": {},
   "cell_type": "markdown",
   "source": [
    "# CNN\n",
    "\n",
    "Loading data...\n",
    "Preparing data...\n",
    "Training model...\n",
    "Epoch 1/5, Loss: 0.2737\n",
    "Epoch 2/5, Loss: 0.1089\n",
    "Epoch 3/5, Loss: 0.1656\n",
    "Epoch 4/5, Loss: 0.1455\n",
    "Epoch 5/5, Loss: 0.1952\n",
    "Making predictions...\n",
    "Training Accuracy: 62.71%\n",
    "Submission file created: cnn_submission.csv \n",
    "    ==> Submission score: 0.39562\n",
    "\n",
    "Loading data...\n",
    "Preparing data...\n",
    "Training model...\n",
    "Epoch 1/8, Loss: 0.2256\n",
    "Epoch 2/8, Loss: 0.2408\n",
    "Epoch 3/8, Loss: 0.1691\n",
    "Epoch 4/8, Loss: 0.1844\n",
    "Epoch 5/8, Loss: 0.2754\n",
    "Epoch 6/8, Loss: 0.2086\n",
    "Epoch 7/8, Loss: 0.1796\n",
    "Epoch 8/8, Loss: 0.1111\n",
    "Making predictions...\n",
    "Training Accuracy: 65.97%\n",
    "\n",
    "\n",
    "with PCA and \n",
    "\n"
   ],
   "id": "7287c550bf162055"
  }
 ],
 "metadata": {
  "kernelspec": {
   "display_name": "Python 3",
   "language": "python",
   "name": "python3"
  },
  "language_info": {
   "codemirror_mode": {
    "name": "ipython",
    "version": 2
   },
   "file_extension": ".py",
   "mimetype": "text/x-python",
   "name": "python",
   "nbconvert_exporter": "python",
   "pygments_lexer": "ipython2",
   "version": "2.7.6"
  }
 },
 "nbformat": 4,
 "nbformat_minor": 5
}
