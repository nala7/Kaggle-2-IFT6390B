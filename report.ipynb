{
 "cells": [
  {
   "metadata": {},
   "cell_type": "markdown",
   "source": [
    "## SVM\n",
    "\n",
    "Findings:\n",
    "\n",
    "- SVM\n",
    "    \n",
    "    - def __init__(self, learning_rate=0.001, lambda_param=0.01, n_iters=1000):\n",
    "    \n",
    "    - Fitting...\n",
    "    - Training classifier for class 0...\n",
    "    - Training classifier for class 1...\n",
    "    - Training classifier for class 2...\n",
    "    - Training classifier for class 3...\n",
    "    - Predicting...\n",
    "    - Training Accuracy: 56.89%"
   ],
   "id": "a9e4da2478ae1dbf"
  },
  {
   "cell_type": "code",
   "execution_count": null,
   "id": "initial_id",
   "metadata": {
    "collapsed": true
   },
   "outputs": [],
   "source": [
    ""
   ]
  }
 ],
 "metadata": {
  "kernelspec": {
   "display_name": "Python 3",
   "language": "python",
   "name": "python3"
  },
  "language_info": {
   "codemirror_mode": {
    "name": "ipython",
    "version": 2
   },
   "file_extension": ".py",
   "mimetype": "text/x-python",
   "name": "python",
   "nbconvert_exporter": "python",
   "pygments_lexer": "ipython2",
   "version": "2.7.6"
  }
 },
 "nbformat": 4,
 "nbformat_minor": 5
}
